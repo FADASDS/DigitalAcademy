{
 "cells": [
  {
   "cell_type": "markdown",
   "id": "d5dc50ed",
   "metadata": {},
   "source": [
    "# Задание 1. Welcome to Python"
   ]
  },
  {
   "cell_type": "code",
   "execution_count": 10,
   "id": "90a486b2",
   "metadata": {},
   "outputs": [
    {
     "name": "stdout",
     "output_type": "stream",
     "text": [
      "Введите ваши имя и фамилию: Нестеров Даниил\n",
      "Hello Нестеров Даниил! You just delved into Python. Great start!\n"
     ]
    }
   ],
   "source": [
    "nameandsurname=''\n",
    "nameandsurname =input(\"Введите ваши имя и фамилию: \")\n",
    "print( \"Hello {nameandsurname}! You just delved into Python. Great start!\".format(nameandsurname=nameandsurname))"
   ]
  },
  {
   "cell_type": "markdown",
   "id": "e50f995a",
   "metadata": {},
   "source": [
    "# Задание 2. Python art"
   ]
  },
  {
   "cell_type": "code",
   "execution_count": 83,
   "id": "f870ad69",
   "metadata": {},
   "outputs": [
    {
     "name": "stdout",
     "output_type": "stream",
     "text": [
      "    H    \n",
      "   HHH   \n",
      "  HHHHH  \n",
      " HHHHHHH \n",
      "HHHHHHHHH\n",
      "  HHHHH               HHHHH             \n",
      "  HHHHH               HHHHH             \n",
      "  HHHHH               HHHHH             \n",
      "  HHHHH               HHHHH             \n",
      "  HHHHH               HHHHH             \n",
      "  HHHHH               HHHHH             \n",
      "  HHHHHHHHHHHHHHHHHHHHHHHHH   \n",
      "  HHHHHHHHHHHHHHHHHHHHHHHHH   \n",
      "  HHHHHHHHHHHHHHHHHHHHHHHHH   \n",
      "  HHHHH               HHHHH             \n",
      "  HHHHH               HHHHH             \n",
      "  HHHHH               HHHHH             \n",
      "  HHHHH               HHHHH             \n",
      "  HHHHH               HHHHH             \n",
      "  HHHHH               HHHHH             \n",
      "                    HHHHHHHHH \n",
      "                     HHHHHHH  \n",
      "                      HHHHH   \n",
      "                       HHH    \n",
      "                        H     \n"
     ]
    }
   ],
   "source": [
    "thickness = 5\n",
    "c = 'H'\n",
    "\n",
    "for i in range(thickness):\n",
    "    print((c*i).rjust(thickness-1)+c+(c*i).ljust(thickness-1))\n",
    "    \n",
    "for i in range(thickness+1):\n",
    "    print((c*thickness).center(thickness*2) + (c*thickness).center(thickness*6))\n",
    "\n",
    "for i in range(thickness-2):\n",
    "    print((c*thickness*5).center(thickness*6))\n",
    "    \n",
    "for i in range(thickness+1):\n",
    "    print((c*thickness).center(thickness*2) + (c*thickness).center(thickness*6))\n",
    "\n",
    "for i in range(thickness):\n",
    "    print(((c*(thickness-i-1)).rjust(thickness)+c+(c*(thickness-i-1)).ljust(thickness)).rjust(thickness*6))"
   ]
  },
  {
   "cell_type": "markdown",
   "id": "24db4b27",
   "metadata": {},
   "source": [
    "# Задание 3. Заголовок"
   ]
  },
  {
   "cell_type": "code",
   "execution_count": 14,
   "id": "23364742",
   "metadata": {},
   "outputs": [
    {
     "name": "stdout",
     "output_type": "stream",
     "text": [
      "Введите текст: hello world!\n",
      "Hello World!\n"
     ]
    }
   ],
   "source": [
    "text=''\n",
    "text =input(\"Введите текст: \")\n",
    "print(text.title())"
   ]
  },
  {
   "cell_type": "markdown",
   "id": "36164e68",
   "metadata": {},
   "source": [
    "# Задание 4. Форматированный вывод денежной суммы"
   ]
  },
  {
   "cell_type": "code",
   "execution_count": 54,
   "id": "211ef197",
   "metadata": {},
   "outputs": [
    {
     "name": "stdout",
     "output_type": "stream",
     "text": [
      "Введите число: 234234\n",
      "234,234.0\n"
     ]
    }
   ],
   "source": [
    "amount=''\n",
    "amount=input(\"Введите число: \")\n",
    "print(\"{0:,}\".format(float(amount)))"
   ]
  },
  {
   "cell_type": "markdown",
   "id": "3214309a",
   "metadata": {},
   "source": [
    "# Задание 5. Дизайнер ковриков"
   ]
  },
  {
   "cell_type": "code",
   "execution_count": 67,
   "id": "472b28da",
   "metadata": {},
   "outputs": [
    {
     "name": "stdout",
     "output_type": "stream",
     "text": [
      "Введите текст для коврика:Welcomehome\n",
      "---------------.|.---------------\n",
      "------------.|..|..|.------------\n",
      "---------.|..|..|..|..|.---------\n",
      "------.|..|..|..|..|..|..|.------\n",
      "---.|..|..|..|..|..|..|..|..|.---\n",
      "-----------Welcomehome-----------\n",
      "---.|..|..|..|..|..|..|..|..|.---\n",
      "------.|..|..|..|..|..|..|.------\n",
      "---------.|..|..|..|..|.---------\n",
      "------------.|..|..|.------------\n",
      "---------------.|.---------------\n"
     ]
    }
   ],
   "source": [
    "H=11\n",
    "W=3*H\n",
    "carpettext = ''\n",
    "carpettext = input('Введите текст для коврика:')\n",
    "for figure in range(1, H, 2):\n",
    "    print((\".|.\"*figure).center(W,'-'))\n",
    "print(carpettext.center(W,'-'))\n",
    "for figure in range(1, H, 2):\n",
    "    print((\".|.\"*(H-figure-1)).center(W,'-'))"
   ]
  },
  {
   "cell_type": "markdown",
   "id": "2d5cf986",
   "metadata": {},
   "source": [
    "# Задание 6. Произведение цифр"
   ]
  },
  {
   "cell_type": "code",
   "execution_count": 91,
   "id": "b1852da2",
   "metadata": {},
   "outputs": [
    {
     "name": "stdout",
     "output_type": "stream",
     "text": [
      "Введите целое число: 123\n",
      "Резульат произведения цифр:  6\n"
     ]
    }
   ],
   "source": [
    "res=1\n",
    "n=input('Введите целое число: ')\n",
    "while(not(n.isdigit())):\n",
    "    print('Ошибка! Повторите ввод!')\n",
    "    n=input('Введите целое число: ')\n",
    "    \n",
    "n=int(n)\n",
    "while(n > 0):\n",
    "    if(n % 10!=0):\n",
    "        res=res*(n % 10)\n",
    "    else:\n",
    "        res=res\n",
    "    n = n//10\n",
    "print('Резульат произведения цифр: ', res)\n",
    "    \n"
   ]
  },
  {
   "cell_type": "code",
   "execution_count": null,
   "id": "edd4a094",
   "metadata": {},
   "outputs": [],
   "source": []
  },
  {
   "cell_type": "code",
   "execution_count": null,
   "id": "6197bd7c",
   "metadata": {},
   "outputs": [],
   "source": []
  }
 ],
 "metadata": {
  "kernelspec": {
   "display_name": "Python 3 (ipykernel)",
   "language": "python",
   "name": "python3"
  },
  "language_info": {
   "codemirror_mode": {
    "name": "ipython",
    "version": 3
   },
   "file_extension": ".py",
   "mimetype": "text/x-python",
   "name": "python",
   "nbconvert_exporter": "python",
   "pygments_lexer": "ipython3",
   "version": "3.10.2"
  }
 },
 "nbformat": 4,
 "nbformat_minor": 5
}
