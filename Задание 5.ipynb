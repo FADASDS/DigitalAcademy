{
 "cells": [
  {
   "cell_type": "markdown",
   "id": "06c59edc",
   "metadata": {},
   "source": [
    "# Задание 1. Fizz Buzz"
   ]
  },
  {
   "cell_type": "code",
   "execution_count": 13,
   "id": "0c368411",
   "metadata": {},
   "outputs": [
    {
     "name": "stdout",
     "output_type": "stream",
     "text": [
      "Введите целое число: 15\n",
      "n = 15 , Результат:  Fizz Buzz\n"
     ]
    }
   ],
   "source": [
    "n=input('Введите целое число: ')\n",
    "while(not(n.isdigit())):\n",
    "    print('Ошибка! Повторите ввод!')\n",
    "    n=input('Введите целое число: ')\n",
    "    \n",
    "n=int(n)\n",
    "answer = (\"Fizz Buzz\" if ((n % 3 == 0) and (n % 5 == 0)) else\n",
    "               \"Fizz\" if (n % 3 == 0) else \n",
    "               \"Buzz\" if (n % 5 == 0) else \n",
    "               str(n))\n",
    "print(\"n =\",n, \", Результат: \", answer)"
   ]
  },
  {
   "cell_type": "markdown",
   "id": "0ede4429",
   "metadata": {},
   "source": [
    "# Задание 2. Оценка числа"
   ]
  },
  {
   "cell_type": "code",
   "execution_count": 23,
   "id": "791a2752",
   "metadata": {},
   "outputs": [
    {
     "name": "stdout",
     "output_type": "stream",
     "text": [
      "Введите число: 25\n",
      "n = 25.0 , Результат:  Плохо\n"
     ]
    }
   ],
   "source": [
    "n=input('Введите число: ')\n",
    "n=float(n)\n",
    "answer = (\"Плохо\" if (n % 2!=0) else\n",
    "               \"Неплохо\" if ((n % 2==0) and (2<=n<=5)) else \n",
    "               \"Так себе\" if ((n % 2==0) and(6<=n<=20)) else \n",
    "               \"Отлично\" if ((n % 2==0) and n>20) else\n",
    "                                                         \"None\")\n",
    "print(\"n =\",n, \", Результат: \", answer)"
   ]
  },
  {
   "cell_type": "markdown",
   "id": "f86cdf75",
   "metadata": {},
   "source": [
    "# Задание 3. Последовательность"
   ]
  },
  {
   "cell_type": "code",
   "execution_count": 31,
   "id": "8e17f238",
   "metadata": {},
   "outputs": [
    {
     "name": "stdout",
     "output_type": "stream",
     "text": [
      "Введите целое число от 1 до 9: 10\n",
      "Ошибка! Повторите ввод!\n",
      "Введите целое число: 4\n",
      "n = 4 , Результат:  1234\n"
     ]
    }
   ],
   "source": [
    "n=input('Введите целое число от 1 до 9: ')\n",
    "n=int(n)\n",
    "while(not(1<=n<=9)):\n",
    "    print('Ошибка! Повторите ввод!')\n",
    "    n=input('Введите целое число: ')\n",
    "    n=int(n)\n",
    "string_out=\"\"\n",
    "for i in range(1, n+1):\n",
    "    string_out+=str(i)\n",
    "print(\"n =\",n, \", Результат: \", string_out)"
   ]
  },
  {
   "cell_type": "markdown",
   "id": "b89fa2da",
   "metadata": {},
   "source": [
    "# Задание 4. Секретное сообщение"
   ]
  },
  {
   "cell_type": "code",
   "execution_count": 34,
   "id": "2d19d0a6",
   "metadata": {},
   "outputs": [
    {
     "name": "stdout",
     "output_type": "stream",
     "text": [
      "Введите строку: How are you? Eh, ok. Low or Lower? Ohhh.\n",
      "HELLO\n"
     ]
    }
   ],
   "source": [
    "input_string=input('Введите строку: ')\n",
    "word=\"\"\n",
    "for i in range(len(input_string)):\n",
    "    if (input_string[i].istitle()):\n",
    "        word+=input_string[i]\n",
    "print(word)"
   ]
  },
  {
   "cell_type": "markdown",
   "id": "f97c6bd3",
   "metadata": {},
   "source": [
    "# Задание 5. Три слова"
   ]
  },
  {
   "cell_type": "code",
   "execution_count": 41,
   "id": "59149b45",
   "metadata": {},
   "outputs": [
    {
     "name": "stdout",
     "output_type": "stream",
     "text": [
      "Введите строку: abc mn 9 md 2\n",
      "text:  abc mn 9 md 2 , Результат: False\n"
     ]
    }
   ],
   "source": [
    "input_string=input('Введите строку: ')\n",
    "word_list=input_string.split()\n",
    "word_count=0\n",
    "res=False\n",
    "for word in word_list:\n",
    "    if word.isalpha():\n",
    "        word_count+=1\n",
    "        if(word_count==3):\n",
    "            res=True\n",
    "            break\n",
    "    else:\n",
    "            word_count=0\n",
    "print(\"text: \", input_string, \", Результат:\", res)"
   ]
  },
  {
   "cell_type": "markdown",
   "id": "07b9545b",
   "metadata": {},
   "source": [
    "# Задание 6. Мир захватили левши"
   ]
  },
  {
   "cell_type": "code",
   "execution_count": 53,
   "id": "861e8821",
   "metadata": {},
   "outputs": [
    {
     "name": "stdout",
     "output_type": "stream",
     "text": [
      "['bright aright', 'ok'] , Результат:  bleft aleft, ok\n"
     ]
    }
   ],
   "source": [
    "word_list=[\"bright aright\", \"ok\"]\n",
    "string=\"\"\n",
    "string=\", \".join(word_list)\n",
    "string=string.replace(\"right\", \"left\")\n",
    "print(word_list, \", Результат: \", string)"
   ]
  },
  {
   "cell_type": "code",
   "execution_count": null,
   "id": "44909faf",
   "metadata": {},
   "outputs": [],
   "source": []
  }
 ],
 "metadata": {
  "kernelspec": {
   "display_name": "Python 3 (ipykernel)",
   "language": "python",
   "name": "python3"
  },
  "language_info": {
   "codemirror_mode": {
    "name": "ipython",
    "version": 3
   },
   "file_extension": ".py",
   "mimetype": "text/x-python",
   "name": "python",
   "nbconvert_exporter": "python",
   "pygments_lexer": "ipython3",
   "version": "3.10.2"
  }
 },
 "nbformat": 4,
 "nbformat_minor": 5
}
