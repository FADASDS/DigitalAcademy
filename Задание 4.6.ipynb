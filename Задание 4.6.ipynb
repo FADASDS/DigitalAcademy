{
 "cells": [
  {
   "cell_type": "markdown",
   "id": "17606d37",
   "metadata": {},
   "source": [
    "# Задание 1. Среднее"
   ]
  },
  {
   "cell_type": "code",
   "execution_count": 7,
   "id": "9d85ddfc",
   "metadata": {},
   "outputs": [
    {
     "name": "stdout",
     "output_type": "stream",
     "text": [
      "[67, 38, 6]\n",
      "Среднее:  37.0\n"
     ]
    }
   ],
   "source": [
    "from random import randint\n",
    "num_list=[]\n",
    "left_border=0\n",
    "right_border=100\n",
    "for i in range(3):\n",
    "    num_list.append(randint(left_border, right_border))\n",
    "print(num_list)\n",
    "print(\"Среднее: \",sum(num_list)/len(num_list))"
   ]
  },
  {
   "cell_type": "markdown",
   "id": "99dcd73b",
   "metadata": {},
   "source": [
    "# Задание 2. Деление и еще раз деление"
   ]
  },
  {
   "cell_type": "code",
   "execution_count": 17,
   "id": "d8d69400",
   "metadata": {},
   "outputs": [
    {
     "name": "stdout",
     "output_type": "stream",
     "text": [
      "7 , 40\n",
      "Результат:\n",
      " 0 , 7\n"
     ]
    }
   ],
   "source": [
    "left_border=0\n",
    "right_border=100\n",
    "x = randint(left_border, right_border)\n",
    "y = randint(left_border, right_border)\n",
    "print(x, ',',y)\n",
    "print(\"Результат:\\n\", x//y,',', x % y)"
   ]
  },
  {
   "cell_type": "markdown",
   "id": "9270225e",
   "metadata": {},
   "source": [
    "# Задание 3. Округление"
   ]
  },
  {
   "cell_type": "code",
   "execution_count": 24,
   "id": "d5742a65",
   "metadata": {},
   "outputs": [
    {
     "name": "stdout",
     "output_type": "stream",
     "text": [
      "Введите число с плавающей точкой: 42.3422\n",
      "42.34\n",
      "42\n",
      "000042.3422\n"
     ]
    }
   ],
   "source": [
    "n=input('Введите число с плавающей точкой: ')\n",
    "print(round(float(n), 2))\n",
    "#round(, 0)\n",
    "print(round(float(n)))\n",
    "print('{0:=011}'.format(float(n)))"
   ]
  },
  {
   "cell_type": "markdown",
   "id": "5d658924",
   "metadata": {},
   "source": [
    "# Задание 4. Число \"наоборот\""
   ]
  },
  {
   "cell_type": "code",
   "execution_count": 37,
   "id": "ba5860e4",
   "metadata": {},
   "outputs": [
    {
     "name": "stdout",
     "output_type": "stream",
     "text": [
      "Введите целое число: -134\n",
      "Инвертированное число:  -431\n"
     ]
    }
   ],
   "source": [
    "n=input('Введите целое число: ')\n",
    "if(n[0]=='-'):\n",
    "    n=n[0]+n[len(n):0:-1] \n",
    "else:\n",
    "    n=n[::-1]\n",
    "n=int(n)\n",
    "print('Инвертированное число: ', n)"
   ]
  },
  {
   "cell_type": "markdown",
   "id": "f708aea5",
   "metadata": {},
   "source": [
    "# Задание 5. Число \"наоборот\" (усложненное)"
   ]
  },
  {
   "cell_type": "code",
   "execution_count": 38,
   "id": "2ee626df",
   "metadata": {},
   "outputs": [
    {
     "name": "stdout",
     "output_type": "stream",
     "text": [
      "Введите целое число: 5342323429\n",
      "Инвертированное число:  0\n"
     ]
    }
   ],
   "source": [
    "n=input('Введите целое число: ')\n",
    "if(n[0]=='-'):\n",
    "    n=n[0]+n[len(n):0:-1] \n",
    "else:\n",
    "    n=n[::-1]\n",
    "n=int(n)\n",
    "if n.bit_length()<32:\n",
    "    print('Инвертированное число: ', n)\n",
    "else:\n",
    "    n=0\n",
    "    print('Инвертированное число: ', n)"
   ]
  }
 ],
 "metadata": {
  "kernelspec": {
   "display_name": "Python 3 (ipykernel)",
   "language": "python",
   "name": "python3"
  },
  "language_info": {
   "codemirror_mode": {
    "name": "ipython",
    "version": 3
   },
   "file_extension": ".py",
   "mimetype": "text/x-python",
   "name": "python",
   "nbconvert_exporter": "python",
   "pygments_lexer": "ipython3",
   "version": "3.10.2"
  }
 },
 "nbformat": 4,
 "nbformat_minor": 5
}
